{
 "cells": [
  {
   "cell_type": "code",
   "execution_count": 1,
   "metadata": {
    "collapsed": true
   },
   "outputs": [],
   "source": [
    "def solution(num1=0, num2=0):\n",
    "    \"\"\" add two numbers together and return the result \"\"\"\n",
    "    return num1 + num2"
   ]
  },
  {
   "cell_type": "code",
   "execution_count": 3,
   "metadata": {},
   "outputs": [
    {
     "name": "stdout",
     "output_type": "stream",
     "text": [
      "All tests passed\n"
     ]
    }
   ],
   "source": [
    "from nose.tools import assert_equal\n",
    "\n",
    "\n",
    "class SolutionTest(object):\n",
    "\n",
    "    def test(self, sol):\n",
    "        assert_equal(sol(2, 2), 4)\n",
    "        assert_equal(sol(4, 4), 8)\n",
    "        print(\"All tests passed\")\n",
    "        \n",
    "# Run the tests\n",
    "t = SolutionTest()\n",
    "t.test(solution)"
   ]
  },
  {
   "cell_type": "code",
   "execution_count": 5,
   "metadata": {},
   "outputs": [
    {
     "name": "stdout",
     "output_type": "stream",
     "text": [
      "length:   0; size in bytes:   64\nlength:   1; size in bytes:   96\nlength:   2; size in bytes:   96\nlength:   3; size in bytes:   96\nlength:   4; size in bytes:   96\nlength:   5; size in bytes:  128\nlength:   6; size in bytes:  128\nlength:   7; size in bytes:  128\nlength:   8; size in bytes:  128\nlength:   9; size in bytes:  192\n"
     ]
    }
   ],
   "source": [
    "import sys\n",
    "n = 10\n",
    "data = []\n",
    "for i in range(n):\n",
    "    a = len(data)\n",
    "    b = sys.getsizeof(data)\n",
    "    print('length: {0:3d}; size in bytes: {1:4d}'.format(a, b))\n",
    "    data.append(n)"
   ]
  },
  {
   "cell_type": "code",
   "execution_count": null,
   "metadata": {},
   "outputs": [],
   "source": [
    ""
   ]
  }
 ],
 "metadata": {
  "kernelspec": {
   "display_name": "Python 2",
   "language": "python",
   "name": "python2"
  },
  "language_info": {
   "codemirror_mode": {
    "name": "ipython",
    "version": 2.0
   },
   "file_extension": ".py",
   "mimetype": "text/x-python",
   "name": "python",
   "nbconvert_exporter": "python",
   "pygments_lexer": "ipython2",
   "version": "2.7.6"
  }
 },
 "nbformat": 4,
 "nbformat_minor": 0
}